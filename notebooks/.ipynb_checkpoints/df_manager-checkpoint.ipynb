{
 "cells": [
  {
   "cell_type": "markdown",
   "metadata": {},
   "source": [
    "# Notebook to test the db functions"
   ]
  },
  {
   "cell_type": "code",
   "execution_count": 1,
   "metadata": {},
   "outputs": [],
   "source": [
    "import pandas as pd\n",
    "import datetime"
   ]
  },
  {
   "cell_type": "code",
   "execution_count": 9,
   "metadata": {},
   "outputs": [],
   "source": [
    "Testzeile = [28.01, \"lidl\", 50, \"grocery\", 21, 12, 1990]\n",
    "direction = \"../data/\""
   ]
  },
  {
   "cell_type": "markdown",
   "metadata": {},
   "source": [
    "# To do\n",
    "\n",
    "1) DONE = erstellen einer Dummy df csv\n",
    "\n",
    "2) DONE = laden der csv\n",
    "\n",
    "3) DONE = back_up erstellen\n",
    "\n",
    "4) DONE = anfügen der neuen Zeile\n",
    "\n",
    "5) automatischer Kategoriefinder (auch rückwärts-> also wenn neue kategorie eingetragen zum Produkt, dann Liste füttern)\n",
    "\n",
    "6) DONE = speichern der Datei\n",
    "\n",
    "7) Zeile überarbeiten\n",
    "\n",
    "8) Zeile löschen"
   ]
  },
  {
   "cell_type": "code",
   "execution_count": 3,
   "metadata": {},
   "outputs": [],
   "source": [
    "def df_dummy(direction):\n",
    "    df = pd.DataFrame()\n",
    "    columns = [\"id\", \"amount\", \"product/store\", \"organic percentage\",\"category\", \"day\", \"month\", \"year\"]\n",
    "    for i in columns:\n",
    "        df[i] = [0]\n",
    "    df.to_csv(f\"{direction}expenses_df.csv\", index=False)        \n",
    "    return \n",
    "    "
   ]
  },
  {
   "cell_type": "code",
   "execution_count": 4,
   "metadata": {},
   "outputs": [],
   "source": [
    "def load_df(direction):\n",
    "    df = pd.read_csv(f\"{direction}expenses_df.csv\")\n",
    "    return df"
   ]
  },
  {
   "cell_type": "code",
   "execution_count": 5,
   "metadata": {},
   "outputs": [],
   "source": [
    "def create_backup(df, direction):\n",
    "    timestamp = datetime.datetime.now().strftime(\"%Y%m%d_%H%M_\")\n",
    "    df.to_csv(f'{direction}backup/{timestamp}_backup.csv')\n",
    "    return            \n",
    "    "
   ]
  },
  {
   "cell_type": "code",
   "execution_count": 6,
   "metadata": {},
   "outputs": [],
   "source": [
    "def add_line(input, df, direction):\n",
    "    df = load_df(direction)\n",
    "    new_id = len(df.id)\n",
    "    new_input = [new_id]+input\n",
    "    columns = df.columns.tolist()\n",
    "    new_line_df = pd.DataFrame()\n",
    "    for index, i in enumerate(new_input):\n",
    "        new_line_df[columns[index]] = [i]\n",
    "    new_df = pd.concat([df, new_line_df], axis=0)\n",
    "    if len(new_df.index)%5 == 0:\n",
    "        create_backup(new_df, direction)\n",
    "    new_df.to_csv(f\"{direction}expenses_df.csv\", index=False)\n",
    "    return new_df      \n",
    "        "
   ]
  },
  {
   "cell_type": "code",
   "execution_count": 7,
   "metadata": {},
   "outputs": [],
   "source": [
    "df_dummy(direction)"
   ]
  },
  {
   "cell_type": "code",
   "execution_count": 8,
   "metadata": {},
   "outputs": [
    {
     "data": {
      "text/html": [
       "<div>\n",
       "<style scoped>\n",
       "    .dataframe tbody tr th:only-of-type {\n",
       "        vertical-align: middle;\n",
       "    }\n",
       "\n",
       "    .dataframe tbody tr th {\n",
       "        vertical-align: top;\n",
       "    }\n",
       "\n",
       "    .dataframe thead th {\n",
       "        text-align: right;\n",
       "    }\n",
       "</style>\n",
       "<table border=\"1\" class=\"dataframe\">\n",
       "  <thead>\n",
       "    <tr style=\"text-align: right;\">\n",
       "      <th></th>\n",
       "      <th>id</th>\n",
       "      <th>amount</th>\n",
       "      <th>product/store</th>\n",
       "      <th>organic percentage</th>\n",
       "      <th>category</th>\n",
       "      <th>day</th>\n",
       "      <th>month</th>\n",
       "      <th>year</th>\n",
       "    </tr>\n",
       "  </thead>\n",
       "  <tbody>\n",
       "    <tr>\n",
       "      <th>0</th>\n",
       "      <td>0</td>\n",
       "      <td>0.00</td>\n",
       "      <td>0</td>\n",
       "      <td>0</td>\n",
       "      <td>0</td>\n",
       "      <td>0</td>\n",
       "      <td>0</td>\n",
       "      <td>0</td>\n",
       "    </tr>\n",
       "    <tr>\n",
       "      <th>0</th>\n",
       "      <td>1</td>\n",
       "      <td>28.01</td>\n",
       "      <td>lidl</td>\n",
       "      <td>50</td>\n",
       "      <td>grocery</td>\n",
       "      <td>21</td>\n",
       "      <td>12</td>\n",
       "      <td>1990</td>\n",
       "    </tr>\n",
       "  </tbody>\n",
       "</table>\n",
       "</div>"
      ],
      "text/plain": [
       "   id  amount product/store  organic percentage category  day  month  year\n",
       "0   0    0.00             0                   0        0    0      0     0\n",
       "0   1   28.01          lidl                  50  grocery   21     12  1990"
      ]
     },
     "execution_count": 8,
     "metadata": {},
     "output_type": "execute_result"
    }
   ],
   "source": [
    "add_line(Testzeile, load_df(direction), direction)"
   ]
  },
  {
   "cell_type": "code",
   "execution_count": null,
   "metadata": {},
   "outputs": [],
   "source": []
  },
  {
   "cell_type": "code",
   "execution_count": null,
   "metadata": {},
   "outputs": [],
   "source": []
  }
 ],
 "metadata": {
  "kernelspec": {
   "display_name": "Python 3",
   "language": "python",
   "name": "python3"
  },
  "language_info": {
   "codemirror_mode": {
    "name": "ipython",
    "version": 3
   },
   "file_extension": ".py",
   "mimetype": "text/x-python",
   "name": "python",
   "nbconvert_exporter": "python",
   "pygments_lexer": "ipython3",
   "version": "3.7.7"
  },
  "toc": {
   "base_numbering": 1,
   "nav_menu": {},
   "number_sections": true,
   "sideBar": true,
   "skip_h1_title": false,
   "title_cell": "Table of Contents",
   "title_sidebar": "Contents",
   "toc_cell": false,
   "toc_position": {},
   "toc_section_display": true,
   "toc_window_display": false
  }
 },
 "nbformat": 4,
 "nbformat_minor": 4
}
